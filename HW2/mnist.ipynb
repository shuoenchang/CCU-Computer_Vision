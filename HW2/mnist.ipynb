{
 "cells": [
  {
   "cell_type": "code",
   "execution_count": 1,
   "metadata": {},
   "outputs": [],
   "source": [
    "import pandas as pd\n",
    "import numpy as np\n",
    "import torch\n",
    "\n",
    "from torch import nn, optim\n",
    "from torch.autograd import Variable\n",
    "import torch.nn.functional as F\n",
    "\n",
    "from sklearn.utils import shuffle\n",
    "import pandas as pd\n",
    "\n",
    "import matplotlib.pyplot as plt"
   ]
  },
  {
   "cell_type": "markdown",
   "metadata": {},
   "source": [
    "# 1. Loading data"
   ]
  },
  {
   "cell_type": "code",
   "execution_count": 2,
   "metadata": {},
   "outputs": [],
   "source": [
    "train = pd.read_csv(\"train.csv\").values\n",
    "train = shuffle(train)\n",
    "test  = pd.read_csv(\"test.csv\").values\n",
    "\n",
    "validation = train[0:4200]\n",
    "train = train[4200:42000]"
   ]
  },
  {
   "cell_type": "markdown",
   "metadata": {},
   "source": [
    "# 2. Converting data"
   ]
  },
  {
   "cell_type": "code",
   "execution_count": 3,
   "metadata": {},
   "outputs": [
    {
     "name": "stdout",
     "output_type": "stream",
     "text": [
      "torch.Size([37800, 1, 28, 28]) torch.Size([37800, 1])\n"
     ]
    }
   ],
   "source": [
    "X_data  = train[:, 1:].reshape(train.shape[0], 1, 28, 28)\n",
    "X_data  = X_data.astype(float)\n",
    "X_data /= 255.0\n",
    "X_data  = torch.from_numpy(X_data);\n",
    "X_label = train[:,0];\n",
    "X_label = X_label.astype(int);\n",
    "X_label = torch.from_numpy(X_label);\n",
    "X_label = X_label.view(train.shape[0],-1);\n",
    "print (X_data.size(), X_label.size())"
   ]
  },
  {
   "cell_type": "code",
   "execution_count": 4,
   "metadata": {},
   "outputs": [
    {
     "name": "stdout",
     "output_type": "stream",
     "text": [
      "torch.Size([4200, 1, 28, 28]) torch.Size([4200, 1])\n"
     ]
    }
   ],
   "source": [
    "Y_data  = validation[:, 1:].reshape(validation.shape[0], 1, 28, 28)\n",
    "Y_data  = Y_data.astype(float)\n",
    "Y_data /= 255.0\n",
    "Y_data  = torch.from_numpy(Y_data);\n",
    "Y_label = validation[:,0];\n",
    "Y_label = Y_label.astype(int);\n",
    "Y_label = torch.from_numpy(Y_label);\n",
    "Y_label = Y_label.view(validation.shape[0],-1);\n",
    "print (Y_data.size(), Y_label.size())"
   ]
  },
  {
   "cell_type": "code",
   "execution_count": 5,
   "metadata": {},
   "outputs": [
    {
     "name": "stdout",
     "output_type": "stream",
     "text": [
      "8\n"
     ]
    },
    {
     "data": {
      "text/plain": [
       "<matplotlib.image.AxesImage at 0x2738273c358>"
      ]
     },
     "execution_count": 5,
     "metadata": {},
     "output_type": "execute_result"
    },
    {
     "data": {
      "image/png": "[encoded data removed]",
      "text/plain": [
       "<Figure size 432x288 with 1 Axes>"
      ]
     },
     "metadata": {},
     "output_type": "display_data"
    }
   ],
   "source": [
    "print(X_label[0].item())\n",
    "plt.imshow(X_data[0][0,:,:],cmap='gray')"
   ]
  },
  {
   "cell_type": "markdown",
   "metadata": {},
   "source": [
    "## Function for Validation"
   ]
  },
  {
   "cell_type": "code",
   "execution_count": 6,
   "metadata": {},
   "outputs": [],
   "source": [
    "def evaluation(data, label, net):\n",
    "    nb_data = data.shape[0]\n",
    "    nb_batch = 10\n",
    "\n",
    "    net.eval()\n",
    "\n",
    "    loss = 0\n",
    "    \n",
    "    final_prediction = Variable(torch.zeros(nb_data, dtype=torch.int), requires_grad = False)\n",
    "    if use_gpu:\n",
    "        final_prediction = final_prediction.cuda()\n",
    "    for each_sample in range(0, nb_data, nb_batch):\n",
    "        sample_data = Variable(data[each_sample:each_sample+nb_batch].clone())\n",
    "        sample_data = sample_data.type(torch.FloatTensor)\n",
    "        \n",
    "        sample_label = Variable(label[each_sample:each_sample+nb_batch].clone(), requires_grad = False)\n",
    "        sample_label = sample_label.type(torch.LongTensor)\n",
    "        if use_gpu:\n",
    "            sample_data = sample_data.cuda()\n",
    "            sample_label = sample_label.cuda()\n",
    "        optimizer.zero_grad()\n",
    "        sample_out   = net(sample_data)\n",
    "        sample_label = sample_label.view(nb_batch)\n",
    "        sample_loss  = criterion(sample_out, sample_label)      \n",
    "        loss = loss+sample_loss\n",
    "        \n",
    "        _, pred = torch.max(sample_out, 1)\n",
    "        final_prediction[each_sample:each_sample+nb_batch] = pred\n",
    "    correct = 0\n",
    "    if use_gpu:\n",
    "        label = Variable(label).cuda()\n",
    "    for i in range(nb_data):\n",
    "        if final_prediction[i] == label[i]:\n",
    "            correct += 1\n",
    "            \n",
    "    loss = loss/(nb_data/nb_batch)\n",
    "    accuracy = correct/nb_data*100\n",
    "    \n",
    "    return loss, accuracy"
   ]
  },
  {
   "cell_type": "markdown",
   "metadata": {},
   "source": [
    "# 3-1. Train for LeNet5"
   ]
  },
  {
   "cell_type": "code",
   "execution_count": 7,
   "metadata": {},
   "outputs": [],
   "source": [
    "class LeNet5(nn.Module):\n",
    "    def __init__(self):\n",
    "        super(LeNet5, self).__init__()\n",
    "        self.conv1 = nn.Conv2d(1, 6, (5,5), padding=2)\n",
    "        self.conv2 = nn.Conv2d(6, 16, (5,5))\n",
    "        self.fc1   = nn.Linear(16*5*5, 120)\n",
    "        self.fc2   = nn.Linear(120, 84)\n",
    "        self.fc3   = nn.Linear(84, 10)\n",
    "    def forward(self, x):\n",
    "        x = F.max_pool2d(F.relu(self.conv1(x)), (2,2))\n",
    "        x = F.max_pool2d(F.relu(self.conv2(x)), (2,2))\n",
    "        x = x.view(-1, self.num_flat_features(x))\n",
    "        x = F.relu(self.fc1(x))\n",
    "        x = F.relu(self.fc2(x))\n",
    "        x = self.fc3(x)\n",
    "        return x\n",
    "    def num_flat_features(self, x):\n",
    "        size = x.size()[1:]\n",
    "        num_features = 1\n",
    "        for s in size:\n",
    "            num_features *= s\n",
    "        return num_features"
   ]
  },
  {
   "cell_type": "code",
   "execution_count": 8,
   "metadata": {},
   "outputs": [
    {
     "name": "stdout",
     "output_type": "stream",
     "text": [
      "LeNet5(\n",
      "  (conv1): Conv2d(1, 6, kernel_size=(5, 5), stride=(1, 1), padding=(2, 2))\n",
      "  (conv2): Conv2d(6, 16, kernel_size=(5, 5), stride=(1, 1))\n",
      "  (fc1): Linear(in_features=400, out_features=120, bias=True)\n",
      "  (fc2): Linear(in_features=120, out_features=84, bias=True)\n",
      "  (fc3): Linear(in_features=84, out_features=10, bias=True)\n",
      ")\n"
     ]
    }
   ],
   "source": [
    "net = LeNet5()\n",
    "print (net)"
   ]
  },
  {
   "cell_type": "code",
   "execution_count": 9,
   "metadata": {},
   "outputs": [
    {
     "name": "stdout",
     "output_type": "stream",
     "text": [
      "USE GPU\n"
     ]
    }
   ],
   "source": [
    "use_gpu = torch.cuda.is_available()\n",
    "if use_gpu:\n",
    "    net = net.cuda()\n",
    "    print ('USE GPU')\n",
    "else:\n",
    "    print ('USE CPU')\n",
    "    \n",
    "criterion = nn.CrossEntropyLoss()\n",
    "optimizer = optim.SGD(net.parameters(), lr=0.001)"
   ]
  },
  {
   "cell_type": "code",
   "execution_count": 10,
   "metadata": {
    "scrolled": true
   },
   "outputs": [
    {
     "name": "stdout",
     "output_type": "stream",
     "text": [
      "Epoch = 1, Train = 2.280325, Val = 2.233967(38.666667%)\n",
      "Epoch = 2, Train = 1.528717, Val = 0.636360(80.690476%)\n",
      "Epoch = 3, Train = 0.474743, Val = 0.383500(88.380952%)\n",
      "Epoch = 4, Train = 0.339689, Val = 0.297159(91.380952%)\n",
      "Epoch = 5, Train = 0.276905, Val = 0.246397(93.190476%)\n",
      "Epoch = 6, Train = 0.233288, Val = 0.208009(94.166667%)\n",
      "Epoch = 7, Train = 0.200484, Val = 0.180420(94.880952%)\n",
      "Epoch = 8, Train = 0.175219, Val = 0.159438(95.357143%)\n",
      "Epoch = 9, Train = 0.155352, Val = 0.142863(95.904762%)\n",
      "Epoch = 10, Train = 0.139546, Val = 0.129927(96.261905%)\n",
      "Epoch = 11, Train = 0.127192, Val = 0.120201(96.452381%)\n",
      "Epoch = 12, Train = 0.117183, Val = 0.112537(96.761905%)\n",
      "Epoch = 13, Train = 0.108896, Val = 0.106315(96.857143%)\n",
      "Epoch = 14, Train = 0.101966, Val = 0.101436(97.023810%)\n",
      "Epoch = 15, Train = 0.095998, Val = 0.097267(97.000000%)\n",
      "Epoch = 16, Train = 0.090854, Val = 0.093632(97.071429%)\n",
      "Epoch = 17, Train = 0.086337, Val = 0.090415(97.285714%)\n",
      "Epoch = 18, Train = 0.082359, Val = 0.087659(97.285714%)\n",
      "Epoch = 19, Train = 0.078855, Val = 0.085236(97.404762%)\n",
      "Epoch = 20, Train = 0.075692, Val = 0.083489(97.547619%)\n",
      "Epoch = 21, Train = 0.072939, Val = 0.081388(97.642857%)\n",
      "Epoch = 22, Train = 0.070290, Val = 0.079923(97.666667%)\n",
      "Epoch = 23, Train = 0.067887, Val = 0.078231(97.690476%)\n",
      "Epoch = 24, Train = 0.065588, Val = 0.076948(97.738095%)\n",
      "Epoch = 25, Train = 0.063425, Val = 0.075489(97.785714%)\n",
      "Epoch = 26, Train = 0.061437, Val = 0.074497(97.809524%)\n",
      "Epoch = 27, Train = 0.059482, Val = 0.073208(97.880952%)\n",
      "Epoch = 28, Train = 0.057646, Val = 0.072041(97.904762%)\n",
      "Epoch = 29, Train = 0.055869, Val = 0.071128(97.880952%)\n",
      "Epoch = 30, Train = 0.054285, Val = 0.070152(97.904762%)\n",
      "Epoch = 31, Train = 0.052676, Val = 0.069194(97.880952%)\n",
      "Epoch = 32, Train = 0.051184, Val = 0.068321(97.928571%)\n",
      "Epoch = 33, Train = 0.049750, Val = 0.067582(97.952381%)\n",
      "Epoch = 34, Train = 0.048398, Val = 0.066929(98.000000%)\n",
      "Epoch = 35, Train = 0.047065, Val = 0.066387(98.047619%)\n",
      "Epoch = 36, Train = 0.045759, Val = 0.065198(98.119048%)\n",
      "Epoch = 37, Train = 0.044469, Val = 0.065117(98.071429%)\n",
      "Epoch = 38, Train = 0.043253, Val = 0.064632(98.119048%)\n",
      "Epoch = 39, Train = 0.042039, Val = 0.064220(98.142857%)\n",
      "Epoch = 40, Train = 0.040912, Val = 0.064060(98.142857%)\n",
      "Epoch = 41, Train = 0.039865, Val = 0.063642(98.190476%)\n",
      "Epoch = 42, Train = 0.038811, Val = 0.063291(98.190476%)\n",
      "Epoch = 43, Train = 0.037803, Val = 0.063180(98.190476%)\n",
      "Epoch = 44, Train = 0.036800, Val = 0.062602(98.190476%)\n",
      "Epoch = 45, Train = 0.035836, Val = 0.062216(98.238095%)\n",
      "Epoch = 46, Train = 0.034855, Val = 0.062226(98.214286%)\n",
      "Epoch = 47, Train = 0.034029, Val = 0.061812(98.261905%)\n",
      "Epoch = 48, Train = 0.033114, Val = 0.061802(98.214286%)\n",
      "Epoch = 49, Train = 0.032289, Val = 0.061585(98.238095%)\n",
      "Epoch = 50, Train = 0.031462, Val = 0.061510(98.238095%)\n"
     ]
    }
   ],
   "source": [
    "nb_train = train.shape[0]\n",
    "nb_epoch = 50\n",
    "nb_index = 0\n",
    "nb_batch = 10\n",
    "\n",
    "for epoch in range(nb_epoch):\n",
    "    net.eval()\n",
    "    train_loss = 0\n",
    "    for nb_index in range(0, nb_train, nb_batch):\n",
    "        mini_data  = Variable(X_data[nb_index:(nb_index+nb_batch)].clone())\n",
    "        mini_label = Variable(X_label[nb_index:(nb_index+nb_batch)].clone(), requires_grad = False)\n",
    "        mini_data  = mini_data.type(torch.FloatTensor)\n",
    "        mini_label = mini_label.type(torch.LongTensor)\n",
    "        if use_gpu:\n",
    "            mini_data  = mini_data.cuda()\n",
    "            mini_label = mini_label.cuda()\n",
    "        optimizer.zero_grad()\n",
    "        mini_out   = net(mini_data)\n",
    "        mini_label = mini_label.view(nb_batch)\n",
    "        mini_loss  = criterion(mini_out, mini_label)\n",
    "        mini_loss.backward()\n",
    "        optimizer.step()\n",
    "        train_loss += mini_loss\n",
    "    train_loss = train_loss/(nb_train/nb_batch)\n",
    "    if (epoch + 1) % 1 == 0:\n",
    "        val_loss, val_acc = evaluation(Y_data, Y_label, net)\n",
    "        print(\"Epoch = %d, Train = %f, Val = %f(%f%%)\" %(epoch+1, train_loss.data.item(), val_loss.data.item(), val_acc))"
   ]
  },
  {
   "cell_type": "markdown",
   "metadata": {},
   "source": [
    "# 4-1. Testing phase"
   ]
  },
  {
   "cell_type": "code",
   "execution_count": 11,
   "metadata": {},
   "outputs": [
    {
     "name": "stdout",
     "output_type": "stream",
     "text": [
      "torch.Size([28000, 1, 28, 28])\n",
      "Total tested = 2000\n",
      "Total tested = 4000\n",
      "Total tested = 6000\n",
      "Total tested = 8000\n",
      "Total tested = 10000\n",
      "Total tested = 12000\n",
      "Total tested = 14000\n",
      "Total tested = 16000\n",
      "Total tested = 18000\n",
      "Total tested = 20000\n",
      "Total tested = 22000\n",
      "Total tested = 24000\n",
      "Total tested = 26000\n",
      "Total tested = 28000\n"
     ]
    }
   ],
   "source": [
    "Y_data  = test.reshape(test.shape[0], 1, 28, 28)\n",
    "Y_data  = Y_data.astype(float)\n",
    "Y_data /= 255.0\n",
    "Y_data  = torch.from_numpy(Y_data);\n",
    "print (Y_data.size())\n",
    "nb_test = test.shape[0]\n",
    "\n",
    "net.eval()\n",
    "\n",
    "final_prediction = np.ndarray(shape = (nb_test, 2), dtype=int)\n",
    "for each_sample in range(nb_test):\n",
    "    sample_data = Variable(Y_data[each_sample:each_sample+1].clone())\n",
    "    sample_data = sample_data.type(torch.FloatTensor)\n",
    "    if use_gpu:\n",
    "        sample_data = sample_data.cuda()\n",
    "    sample_out = net(sample_data)\n",
    "    _, pred = torch.max(sample_out, 1)\n",
    "    final_prediction[each_sample][0] = 1 + each_sample\n",
    "    final_prediction[each_sample][1] = pred.data\n",
    "    if (each_sample + 1) % 2000 == 0:\n",
    "        print(\"Total tested = %d\" %(each_sample + 1))"
   ]
  },
  {
   "cell_type": "code",
   "execution_count": 12,
   "metadata": {},
   "outputs": [],
   "source": [
    "submission = pd.DataFrame(final_prediction, dtype=int, columns=['ImageId', 'Label'])\n",
    "submission.to_csv('pytorch_LeNet5.csv', index=False, header=True)"
   ]
  },
  {
   "cell_type": "markdown",
   "metadata": {},
   "source": [
    "# 3-2. Train for LeNet7"
   ]
  },
  {
   "cell_type": "code",
   "execution_count": 15,
   "metadata": {},
   "outputs": [],
   "source": [
    "class LeNet7(nn.Module):\n",
    "    def __init__(self):\n",
    "        super(LeNet7, self).__init__()\n",
    "        self.conv1 = nn.Conv2d(1, 6, (5,5), padding=2)\n",
    "        self.conv2 = nn.Conv2d(6, 16, (5,5))\n",
    "        self.conv3 = nn.Conv2d(16, 26, (5,5))\n",
    "        self.fc0   = nn.Linear(26, 16*5*5)\n",
    "        self.fc1   = nn.Linear(16*5*5, 120)\n",
    "        self.fc2   = nn.Linear(120, 84)\n",
    "        self.fc3   = nn.Linear(84, 10)\n",
    "    def forward(self, x):\n",
    "        x = F.max_pool2d(F.relu(self.conv1(x)), (2,2))\n",
    "        x = F.max_pool2d(F.relu(self.conv2(x)), (2,2))\n",
    "        x = F.relu(self.conv3(x))\n",
    "        x = x.view(-1, self.num_flat_features(x))\n",
    "        x = F.relu(self.fc0(x))\n",
    "        x = F.relu(self.fc1(x))\n",
    "        x = F.relu(self.fc2(x))\n",
    "        x = self.fc3(x)\n",
    "        return x\n",
    "    def num_flat_features(self, x):\n",
    "        size = x.size()[1:]\n",
    "        num_features = 1\n",
    "        for s in size:\n",
    "            num_features *= s\n",
    "        return num_features"
   ]
  },
  {
   "cell_type": "code",
   "execution_count": 16,
   "metadata": {},
   "outputs": [
    {
     "name": "stdout",
     "output_type": "stream",
     "text": [
      "LeNet7(\n",
      "  (conv1): Conv2d(1, 6, kernel_size=(5, 5), stride=(1, 1), padding=(2, 2))\n",
      "  (conv2): Conv2d(6, 16, kernel_size=(5, 5), stride=(1, 1))\n",
      "  (conv3): Conv2d(16, 26, kernel_size=(5, 5), stride=(1, 1))\n",
      "  (fc0): Linear(in_features=26, out_features=400, bias=True)\n",
      "  (fc1): Linear(in_features=400, out_features=120, bias=True)\n",
      "  (fc2): Linear(in_features=120, out_features=84, bias=True)\n",
      "  (fc3): Linear(in_features=84, out_features=10, bias=True)\n",
      ")\n"
     ]
    }
   ],
   "source": [
    "net = LeNet7()\n",
    "print (net)"
   ]
  },
  {
   "cell_type": "code",
   "execution_count": 17,
   "metadata": {},
   "outputs": [
    {
     "name": "stdout",
     "output_type": "stream",
     "text": [
      "USE GPU\n"
     ]
    }
   ],
   "source": [
    "use_gpu = torch.cuda.is_available()\n",
    "if use_gpu:\n",
    "    net = net.cuda()\n",
    "    print ('USE GPU')\n",
    "else:\n",
    "    print ('USE CPU')\n",
    "    \n",
    "criterion = nn.CrossEntropyLoss()\n",
    "optimizer = optim.SGD(net.parameters(), lr=0.001)"
   ]
  },
  {
   "cell_type": "code",
   "execution_count": 19,
   "metadata": {},
   "outputs": [
    {
     "name": "stdout",
     "output_type": "stream",
     "text": [
      "torch.Size([4200, 1, 28, 28]) torch.Size([4200, 1])\n"
     ]
    }
   ],
   "source": [
    "Y_data  = validation[:, 1:].reshape(validation.shape[0], 1, 28, 28)\n",
    "Y_data  = Y_data.astype(float)\n",
    "Y_data /= 255.0\n",
    "Y_data  = torch.from_numpy(Y_data);\n",
    "Y_label = validation[:,0];\n",
    "Y_label = Y_label.astype(int);\n",
    "Y_label = torch.from_numpy(Y_label);\n",
    "Y_label = Y_label.view(validation.shape[0],-1);\n",
    "print (Y_data.size(), Y_label.size())"
   ]
  },
  {
   "cell_type": "code",
   "execution_count": 20,
   "metadata": {
    "scrolled": true
   },
   "outputs": [
    {
     "name": "stdout",
     "output_type": "stream",
     "text": [
      "Epoch = 1, Train = 2.301973, Val = 2.300755(10.880952%)\n",
      "Epoch = 2, Train = 2.301140, Val = 2.299932(11.738095%)\n",
      "Epoch = 3, Train = 2.300627, Val = 2.299316(11.738095%)\n",
      "Epoch = 4, Train = 2.300126, Val = 2.298666(11.738095%)\n",
      "Epoch = 5, Train = 2.299430, Val = 2.297744(11.738095%)\n",
      "Epoch = 6, Train = 2.298233, Val = 2.296066(11.738095%)\n",
      "Epoch = 7, Train = 2.295747, Val = 2.292399(11.738095%)\n",
      "Epoch = 8, Train = 2.289316, Val = 2.281463(11.738095%)\n",
      "Epoch = 9, Train = 2.262844, Val = 2.219127(42.285714%)\n",
      "Epoch = 10, Train = 1.726378, Val = 1.057977(63.119048%)\n",
      "Epoch = 11, Train = 0.736975, Val = 0.537991(82.904762%)\n",
      "Epoch = 12, Train = 0.454492, Val = 0.386562(88.357143%)\n",
      "Epoch = 13, Train = 0.348104, Val = 0.295523(91.071429%)\n",
      "Epoch = 14, Train = 0.274956, Val = 0.236894(92.857143%)\n",
      "Epoch = 15, Train = 0.223962, Val = 0.196807(94.119048%)\n",
      "Epoch = 16, Train = 0.188671, Val = 0.168120(95.000000%)\n",
      "Epoch = 17, Train = 0.163899, Val = 0.148708(95.476190%)\n",
      "Epoch = 18, Train = 0.146044, Val = 0.134110(95.809524%)\n",
      "Epoch = 19, Train = 0.132608, Val = 0.123796(96.190476%)\n",
      "Epoch = 20, Train = 0.122088, Val = 0.115671(96.500000%)\n",
      "Epoch = 21, Train = 0.113545, Val = 0.109273(96.690476%)\n",
      "Epoch = 22, Train = 0.106365, Val = 0.104436(96.738095%)\n",
      "Epoch = 23, Train = 0.100290, Val = 0.099117(96.785714%)\n",
      "Epoch = 24, Train = 0.095062, Val = 0.095094(96.952381%)\n",
      "Epoch = 25, Train = 0.090532, Val = 0.092065(97.166667%)\n",
      "Epoch = 26, Train = 0.086538, Val = 0.088680(97.333333%)\n",
      "Epoch = 27, Train = 0.082947, Val = 0.085999(97.452381%)\n",
      "Epoch = 28, Train = 0.079792, Val = 0.083622(97.619048%)\n",
      "Epoch = 29, Train = 0.076895, Val = 0.081620(97.714286%)\n",
      "Epoch = 30, Train = 0.074312, Val = 0.079620(97.785714%)\n",
      "Epoch = 31, Train = 0.071925, Val = 0.077861(97.809524%)\n",
      "Epoch = 32, Train = 0.069713, Val = 0.076135(97.904762%)\n",
      "Epoch = 33, Train = 0.067626, Val = 0.074702(97.880952%)\n",
      "Epoch = 34, Train = 0.065628, Val = 0.073319(97.952381%)\n",
      "Epoch = 35, Train = 0.063751, Val = 0.072245(97.976190%)\n",
      "Epoch = 36, Train = 0.062094, Val = 0.071125(97.952381%)\n",
      "Epoch = 37, Train = 0.060497, Val = 0.069951(97.928571%)\n",
      "Epoch = 38, Train = 0.058989, Val = 0.068686(97.952381%)\n",
      "Epoch = 39, Train = 0.057549, Val = 0.067518(97.976190%)\n",
      "Epoch = 40, Train = 0.056191, Val = 0.066693(97.976190%)\n",
      "Epoch = 41, Train = 0.054910, Val = 0.065832(98.023810%)\n",
      "Epoch = 42, Train = 0.053662, Val = 0.064988(97.976190%)\n",
      "Epoch = 43, Train = 0.052485, Val = 0.064388(98.000000%)\n",
      "Epoch = 44, Train = 0.051309, Val = 0.063494(98.023810%)\n",
      "Epoch = 45, Train = 0.050235, Val = 0.062809(98.023810%)\n",
      "Epoch = 46, Train = 0.049187, Val = 0.062080(98.095238%)\n",
      "Epoch = 47, Train = 0.048142, Val = 0.061244(98.119048%)\n",
      "Epoch = 48, Train = 0.047137, Val = 0.060745(98.119048%)\n",
      "Epoch = 49, Train = 0.046137, Val = 0.060429(98.095238%)\n",
      "Epoch = 50, Train = 0.045197, Val = 0.059783(98.119048%)\n"
     ]
    }
   ],
   "source": [
    "nb_train = train.shape[0]\n",
    "nb_epoch = 50\n",
    "nb_index = 0\n",
    "nb_batch = 10\n",
    "\n",
    "for epoch in range(nb_epoch):\n",
    "    net.eval()\n",
    "    train_loss = 0\n",
    "    for nb_index in range(0, nb_train, nb_batch):\n",
    "        mini_data  = Variable(X_data[nb_index:(nb_index+nb_batch)].clone())\n",
    "        mini_label = Variable(X_label[nb_index:(nb_index+nb_batch)].clone(), requires_grad = False)\n",
    "        mini_data  = mini_data.type(torch.FloatTensor)\n",
    "        mini_label = mini_label.type(torch.LongTensor)\n",
    "        if use_gpu:\n",
    "            mini_data  = mini_data.cuda()\n",
    "            mini_label = mini_label.cuda()\n",
    "        optimizer.zero_grad()\n",
    "        mini_out   = net(mini_data)\n",
    "        mini_label = mini_label.view(nb_batch)\n",
    "        mini_loss  = criterion(mini_out, mini_label)\n",
    "        mini_loss.backward()\n",
    "        optimizer.step()\n",
    "        train_loss += mini_loss\n",
    "    train_loss = train_loss/(nb_train/nb_batch)\n",
    "    if (epoch + 1) % 1 == 0:\n",
    "        val_loss, val_acc = evaluation(Y_data, Y_label, net)\n",
    "        print(\"Epoch = %d, Train = %f, Val = %f(%f%%)\" %(epoch+1, train_loss.data.item(), val_loss.data.item(), val_acc))"
   ]
  },
  {
   "cell_type": "markdown",
   "metadata": {},
   "source": [
    "# 4-2. Testing phase"
   ]
  },
  {
   "cell_type": "code",
   "execution_count": 21,
   "metadata": {},
   "outputs": [
    {
     "name": "stdout",
     "output_type": "stream",
     "text": [
      "torch.Size([28000, 1, 28, 28])\n",
      "Total tested = 2000\n",
      "Total tested = 4000\n",
      "Total tested = 6000\n",
      "Total tested = 8000\n",
      "Total tested = 10000\n",
      "Total tested = 12000\n",
      "Total tested = 14000\n",
      "Total tested = 16000\n",
      "Total tested = 18000\n",
      "Total tested = 20000\n",
      "Total tested = 22000\n",
      "Total tested = 24000\n",
      "Total tested = 26000\n",
      "Total tested = 28000\n"
     ]
    }
   ],
   "source": [
    "Y_data  = test.reshape(test.shape[0], 1, 28, 28)\n",
    "Y_data  = Y_data.astype(float)\n",
    "Y_data /= 255.0\n",
    "Y_data  = torch.from_numpy(Y_data);\n",
    "print (Y_data.size())\n",
    "nb_test = test.shape[0]\n",
    "\n",
    "net.eval()\n",
    "\n",
    "final_prediction = np.ndarray(shape = (nb_test, 2), dtype=int)\n",
    "for each_sample in range(nb_test):\n",
    "    sample_data = Variable(Y_data[each_sample:each_sample+1].clone())\n",
    "    sample_data = sample_data.type(torch.FloatTensor)\n",
    "    if use_gpu:\n",
    "        sample_data = sample_data.cuda()\n",
    "    sample_out = net(sample_data)\n",
    "    _, pred = torch.max(sample_out, 1)\n",
    "    final_prediction[each_sample][0] = 1 + each_sample\n",
    "    final_prediction[each_sample][1] = pred.data\n",
    "    if (each_sample + 1) % 2000 == 0:\n",
    "        print(\"Total tested = %d\" %(each_sample + 1))"
   ]
  },
  {
   "cell_type": "code",
   "execution_count": 22,
   "metadata": {},
   "outputs": [],
   "source": [
    "submission = pd.DataFrame(final_prediction, dtype=int, columns=['ImageId', 'Label'])\n",
    "submission.to_csv('pytorch_LeNet7.csv', index=False, header=True)"
   ]
  },
  {
   "cell_type": "code",
   "execution_count": null,
   "metadata": {},
   "outputs": [],
   "source": []
  }
 ],
 "metadata": {
  "kernelspec": {
   "display_name": "Python [conda env:ML2018]",
   "language": "python",
   "name": "conda-env-ML2018-py"
  },
  "language_info": {
   "codemirror_mode": {
    "name": "ipython",
    "version": 3
   },
   "file_extension": ".py",
   "mimetype": "text/x-python",
   "name": "python",
   "nbconvert_exporter": "python",
   "pygments_lexer": "ipython3",
   "version": "3.6.6"
  }
 },
 "nbformat": 4,
 "nbformat_minor": 2
}
